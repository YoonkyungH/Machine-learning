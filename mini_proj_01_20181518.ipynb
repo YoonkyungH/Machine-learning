{
 "cells": [
  {
   "cell_type": "markdown",
   "metadata": {},
   "source": [
    "# MiniProject1"
   ]
  },
  {
   "cell_type": "code",
   "execution_count": 1,
   "metadata": {},
   "outputs": [
    {
     "name": "stdout",
     "output_type": "stream",
     "text": [
      "<class 'pandas.core.frame.DataFrame'>\n",
      "RangeIndex: 239999 entries, 0 to 239998\n",
      "Columns: 785 entries, 8 to 0.520\n",
      "dtypes: int64(785)\n",
      "memory usage: 1.4 GB\n"
     ]
    }
   ],
   "source": [
    "import pandas as pd\n",
    "data = pd.read_csv('Downloads/emnist-digits-train.csv')\n",
    "data.info()"
   ]
  },
  {
   "cell_type": "code",
   "execution_count": 2,
   "metadata": {},
   "outputs": [
    {
     "data": {
      "text/plain": [
       "Index(['8', '0', '0.1', '0.2', '0.3', '0.4', '0.5', '0.6', '0.7', '0.8',\n",
       "       ...\n",
       "       '0.511', '0.512', '0.513', '0.514', '0.515', '0.516', '0.517', '0.518',\n",
       "       '0.519', '0.520'],\n",
       "      dtype='object', length=785)"
      ]
     },
     "execution_count": 2,
     "metadata": {},
     "output_type": "execute_result"
    }
   ],
   "source": [
    "data.keys()"
   ]
  },
  {
   "cell_type": "code",
   "execution_count": 3,
   "metadata": {},
   "outputs": [],
   "source": [
    "y=data[\"8\"]\n",
    "x=data.drop([\"8\"], axis=1)"
   ]
  },
  {
   "cell_type": "markdown",
   "metadata": {},
   "source": [
    "ExtraTreesClassifier"
   ]
  },
  {
   "cell_type": "code",
   "execution_count": 4,
   "metadata": {},
   "outputs": [
    {
     "data": {
      "text/plain": [
       "ExtraTreesClassifier(n_estimators=50, random_state=42)"
      ]
     },
     "execution_count": 4,
     "metadata": {},
     "output_type": "execute_result"
    }
   ],
   "source": [
    "from sklearn.ensemble import RandomForestClassifier, ExtraTreesClassifier\n",
    "\n",
    "extra_trees_clf = ExtraTreesClassifier(n_estimators=50, random_state=42)\n",
    "extra_trees_clf.fit(x, y)"
   ]
  },
  {
   "cell_type": "code",
   "execution_count": 5,
   "metadata": {},
   "outputs": [
    {
     "data": {
      "text/plain": [
       "array([0.98170833, 0.980625  , 0.98279167, 0.981875  , 0.980875  ,\n",
       "       0.9835    , 0.98245833, 0.982125  , 0.98083333, 0.9816659 ])"
      ]
     },
     "execution_count": 5,
     "metadata": {},
     "output_type": "execute_result"
    }
   ],
   "source": [
    "from sklearn.model_selection import cross_val_score\n",
    "\n",
    "extra_fold_score = cross_val_score(extra_trees_clf, x, y, cv=10, scoring=\"accuracy\")\n",
    "extra_fold_score"
   ]
  },
  {
   "cell_type": "code",
   "execution_count": 6,
   "metadata": {},
   "outputs": [
    {
     "name": "stdout",
     "output_type": "stream",
     "text": [
      "Scores: [0.98170833 0.980625   0.98279167 0.981875   0.980875   0.9835\n",
      " 0.98245833 0.982125   0.98083333 0.9816659 ]\n",
      "Mean: 0.9818457569412615\n",
      "Standard deviation 0.0008714469504557418\n"
     ]
    }
   ],
   "source": [
    "def display_scores(scores):\n",
    "    print(\"Scores:\", scores)\n",
    "    print(\"Mean:\", scores.mean())\n",
    "    print(\"Standard deviation\", scores.std())\n",
    "    \n",
    "display_scores(extra_fold_score)"
   ]
  },
  {
   "cell_type": "code",
   "execution_count": null,
   "metadata": {},
   "outputs": [],
   "source": []
  }
 ],
 "metadata": {
  "kernelspec": {
   "display_name": "Python 3",
   "language": "python",
   "name": "python3"
  },
  "language_info": {
   "codemirror_mode": {
    "name": "ipython",
    "version": 3
   },
   "file_extension": ".py",
   "mimetype": "text/x-python",
   "name": "python",
   "nbconvert_exporter": "python",
   "pygments_lexer": "ipython3",
   "version": "3.8.3"
  }
 },
 "nbformat": 4,
 "nbformat_minor": 4
}
